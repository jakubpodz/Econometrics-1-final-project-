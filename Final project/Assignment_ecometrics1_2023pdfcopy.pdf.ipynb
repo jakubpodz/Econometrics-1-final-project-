{
 "cells": [
  {
   "cell_type": "markdown",
   "metadata": {},
   "source": [
    "# BEEM011 Assignment 2023\n",
    "\n",
    "### Instructions\n",
    "\n",
    "#### Summative assessment\n",
    "Direction: This Assignment consists of 2 questions. There are 100 marks in total. \n",
    "\n",
    "For each question, 5% of marks are reserved for evidence of best practice in R coding, marks for sub-questions therefore add up to 95 of the 100 total marks for the assignment.\n",
    "\n",
    "Unless otherwise stated you should use a 5% significance level for hypothesis tests.\n",
    "\n",
    "Answer all the questions and upload your Jupyter Notebook and a PDF copy to the ELE2 submission point. \n",
    "\n",
    "#### WRITE YOUR R CODE AND ANSWERS FOR ALL OF THE QUESTIONS IN THIS JUPYTER NOTEBOOK.  PLEASE INCLUDE YOUR CANDIDATE NUMBER IN A COMMENT AT THE TOP OF YOUR CODE.\n",
    "\n",
    "\n",
    "#### DO NOT PUT YOUR NAME ANYWHERE IN THE ASSIGNMENT.\n",
    "\n",
    "\n",
    "Make sure to include your Jupyter Notebook file (.ipynb) as an upload to your submission. Please comment on each procedure to explain what you are doing (or intend to do). Submission is via ELE2.\n",
    "Submission of an incorrect filetype will result in the deduction of marks.\n",
    "\n",
    "Read and answer each of the questions using your own code and words.  \n",
    "\n",
    "Collaboration with others and plagiarism of other people's code is not permitted. Presenting someone else's code as your own work is misrepresentation, an academic conduct offence.\n"
   ]
  },
  {
   "cell_type": "markdown",
   "metadata": {},
   "source": [
    "For the assignment I am not expecting you to use packages outside of what we have learnt in class. If you use additional packages I expect you to explain why, demonstrate your understanding of how they are functioning and justify why you need this package.\n",
    "\n",
    "We have covered the following packages in the libraries:\n",
    "\n",
    "- readxl\n",
    "\n",
    "- AER\n",
    "\n",
    "- sandwich\n",
    "\n",
    "- MASS\n",
    "\n",
    "- margins\n",
    "\n",
    "- stargazer\n",
    "\n",
    "- plm\n",
    "\n",
    "- ggplot2\n",
    "\n",
    "- haven\n",
    "\n",
    "- psych\n",
    "\n",
    "Some people will also have used the following packages for installation:\n",
    "\n",
    "- base\n",
    "\n",
    "- devtool"
   ]
  },
  {
   "cell_type": "code",
   "execution_count": 2,
   "metadata": {
    "vscode": {
     "languageId": "r"
    }
   },
   "outputs": [
    {
     "name": "stderr",
     "output_type": "stream",
     "text": [
      "Warning message:\n",
      "\"package 'AER' was built under R version 3.6.3\"\n",
      "Loading required package: car\n",
      "\n",
      "Warning message:\n",
      "\"package 'car' was built under R version 3.6.3\"\n",
      "Loading required package: carData\n",
      "\n",
      "Warning message:\n",
      "\"package 'carData' was built under R version 3.6.3\"\n",
      "Loading required package: lmtest\n",
      "\n",
      "Warning message:\n",
      "\"package 'lmtest' was built under R version 3.6.3\"\n",
      "Loading required package: zoo\n",
      "\n",
      "Warning message:\n",
      "\"package 'zoo' was built under R version 3.6.3\"\n",
      "\n",
      "Attaching package: 'zoo'\n",
      "\n",
      "\n",
      "The following objects are masked from 'package:base':\n",
      "\n",
      "    as.Date, as.Date.numeric\n",
      "\n",
      "\n",
      "Loading required package: sandwich\n",
      "\n",
      "Warning message:\n",
      "\"package 'sandwich' was built under R version 3.6.3\"\n",
      "Loading required package: survival\n",
      "\n",
      "Warning message:\n",
      "\"package 'survival' was built under R version 3.6.3\"\n",
      "Warning message:\n",
      "\"package 'plm' was built under R version 3.6.3\"\n",
      "Warning message:\n",
      "\"package 'ggplot2' was built under R version 3.6.3\"\n",
      "Warning message:\n",
      "\"package 'stargazer' was built under R version 3.6.3\"\n",
      "\n",
      "Please cite as: \n",
      "\n",
      "\n",
      " Hlavac, Marek (2018). stargazer: Well-Formatted Regression and Summary Statistics Tables.\n",
      "\n",
      " R package version 5.2.2. https://CRAN.R-project.org/package=stargazer \n",
      "\n",
      "\n"
     ]
    }
   ],
   "source": [
    "library(AER)\n",
    "library(plm)\n",
    "library(ggplot2)\n",
    "library(stargazer)\n",
    "library(sandwich)"
   ]
  },
  {
   "cell_type": "markdown",
   "metadata": {},
   "source": [
    "\n",
    "\n",
    "# Question 1: Probability"
   ]
  },
  {
   "cell_type": "markdown",
   "metadata": {},
   "source": [
    "The average yields per hectare for cereal crops in the UK are normally distributed with mean 3,500 tonnes per hectare and standard deviation 2,500 tonnes.\n",
    "\n",
    "Any crop whose yield is greater than 5,000 tonnes is defined as being productive.\n",
    "\n",
    "a) Define the mean and standard deviation of the distribution as variables in R [2 marks]"
   ]
  },
  {
   "cell_type": "code",
   "execution_count": 3,
   "metadata": {
    "vscode": {
     "languageId": "r"
    }
   },
   "outputs": [],
   "source": [
    "#assigning mean and sd to veriables \n",
    "mean_yield <- 3500\n",
    "sd_yield <- 2500 "
   ]
  },
  {
   "cell_type": "markdown",
   "metadata": {},
   "source": [
    "b) Write down the probability that a randomly selected/sampled crop is productive and use R to calculate this probability using the standard normal transformation. [4 marks]"
   ]
  },
  {
   "cell_type": "code",
   "execution_count": 4,
   "metadata": {
    "vscode": {
     "languageId": "r"
    }
   },
   "outputs": [
    {
     "name": "stdout",
     "output_type": "stream",
     "text": [
      "Probability of sampled crop being poductive: 0.2742531"
     ]
    }
   ],
   "source": [
    "productive_yield <- 5000\n",
    "\n",
    "#Calculate the Z-score\n",
    "#Z=(X-MEAN)/SD\n",
    "Zscore <- (productive_yield - mean_yield)/sd_yield\n",
    "\n",
    "#finds cumulative distribution fuction of the standard normal distribtuion\n",
    "# -1 used to find the left tail of distribtuion\n",
    "prob_productive <- 1 - pnorm(Zscore)\n",
    "\n",
    "cat('Probability of sampled crop being poductive:', prob_productive)"
   ]
  },
  {
   "cell_type": "markdown",
   "metadata": {},
   "source": [
    "c) Write down the probability that a randomly selected crop yields more than 6,500 tonnes per hectare annually and use R to calculate this probability. [4 marks]"
   ]
  },
  {
   "cell_type": "code",
   "execution_count": 5,
   "metadata": {
    "vscode": {
     "languageId": "r"
    }
   },
   "outputs": [
    {
     "name": "stdout",
     "output_type": "stream",
     "text": [
      "Probability of sampled crop being greater than 6500: 0.1150697"
     ]
    }
   ],
   "source": [
    "#Similar to b), however changing X to 6500\n",
    "Zscore1 <- (6500 - mean_yield)/sd_yield\n",
    "\n",
    "prob_greater_6500 <- 1 - pnorm(Zscore1)\n",
    "\n",
    "cat('Probability of sampled crop being greater than 6500:', prob_greater_6500)"
   ]
  },
  {
   "cell_type": "markdown",
   "metadata": {},
   "source": [
    "d) A crop is chosen at random. Given that the crop is productive, write down an equation for calculating the probability that the yield for this crop is greater than 6,500 tonnes.\n",
    "You should use $P(A | B), P(B | A)$ and $P(A \\cap B)$ in your equation where:\n",
    "\n",
    "A = crop is productive (exceeds 5,000 tonnes per year)\n",
    "\n",
    "B = crop yield exceeds 6,500 tonnes per year\n",
    "\n",
    "[5 marks]"
   ]
  },
  {
   "cell_type": "markdown",
   "metadata": {},
   "source": [
    "By definition, the joint probability P(A∩B) is the probability of both A and B occurring. If you consider all possible outcomes where A occurs, the fraction of those outcomes where B also occurs is exactly the conditional probability of B given A. The formula rearranges the proportionate relationship between P(A∩B) and P(A). Mathematically, this is expressed as P(A∩B)=P(A)×P(B∣A). This equation states that the probability of both A and B occurring is the product of the probability of A and the conditional probability of B given A. To find P(B∣A), we rearrange this equation to isolate it: \n",
    "​\n",
    "$$ P(B∣A)= P(A∩B)/P(A) $$\n",
    "\n",
    "\n"
   ]
  },
  {
   "cell_type": "markdown",
   "metadata": {},
   "source": [
    "e) Use R to calculate the probability that the yield for this randomly chosen crop is greater than 6,500 tonnes.  Round your result to two decimal places. [2 marks]"
   ]
  },
  {
   "cell_type": "code",
   "execution_count": 6,
   "metadata": {
    "vscode": {
     "languageId": "r"
    }
   },
   "outputs": [
    {
     "name": "stdout",
     "output_type": "stream",
     "text": [
      "Probability that random selcted crop is greater than 6,500 tonnes: 0.42 \n"
     ]
    }
   ],
   "source": [
    "conditional_prob <- prob_greater_6500 / prob_productive\n",
    "conditional_prob_rounded <- round(conditional_prob, 2)\n",
    "cat('Probability that random selcted crop is greater than 6,500 tonnes:', conditional_prob_rounded, '\\n')\n"
   ]
  },
  {
   "cell_type": "markdown",
   "metadata": {},
   "source": [
    "f) A researcher has collected data on a sample of 105 new genetically modified (GM) cereal crops.  The sample mean of the yields is 3,900 tonnes per hectare and the sample standard deviation is 2,100 tonnes per hectare. \n",
    "\n",
    "Test the null hypothesis that the genetically modified (GM) cereal crops have a population mean yield equal to that of the UK cereal crops in part a) against the alternative hypothesis that the GM crops have a higher population mean yield. Use a 5% significance level. [5 marks]"
   ]
  },
  {
   "cell_type": "markdown",
   "metadata": {},
   "source": [
    "Answer"
   ]
  },
  {
   "cell_type": "markdown",
   "metadata": {},
   "source": [
    "Ybar denots the mean GM cereal crops, sy denotes standard deviation, n is sample size, alpha is the sginficicance level.\n",
    "\n",
    "$$ \\bar y = 3900 $$\n",
    "\n",
    "$$ s_y = 2100 $$\n",
    "\n",
    "$$n = 105 $$\n",
    "\n",
    "Null hypothesis design:\n",
    "\n",
    "$$ H_0: μ_GY >= μ_UK, $$\n",
    "\n",
    "$$ H_1: μ_GY > μ_UK $$ \n",
    "\n",
    "$$ α = 0.05 $$\n",
    "\n",
    "$$ t-value = (\\bar y - μ^0_Y)/(s_y / √n) $$\n",
    "\n",
    "$$ t_{crit} = ± qnorm(α) $$\n",
    "\n",
    "$$ |t-value|>|t_{crit}| $$\n"
   ]
  },
  {
   "cell_type": "code",
   "execution_count": 7,
   "metadata": {
    "vscode": {
     "languageId": "r"
    }
   },
   "outputs": [
    {
     "name": "stdout",
     "output_type": "stream",
     "text": [
      "Upper critcal value: 1.659637 \n",
      "T-statistic: 1.9518 \n",
      "Degrees of freedom: 104 \n",
      "[1] \"Reject null hypothesis\"\n"
     ]
    }
   ],
   "source": [
    "mean_null <- 3500 \n",
    "n <- 105\n",
    "ybar <- 3900\n",
    "sy <- 2100\n",
    "alpha <- 0.05\n",
    "\n",
    "#calcaulate the t_statistic\n",
    "t_stat <- (ybar - mean_null) / (sy / sqrt(n))\n",
    "\n",
    "#calculate the critical range under a 0.05 significance level \n",
    "t_crit <- qt(0.95, df = n - 1) # Right-tailed test\n",
    "\n",
    "#degree of freedom \n",
    "deg_freedom <- n - 1 \n",
    "\n",
    "\n",
    "cat('Upper critcal value:', t_crit, '\\n')\n",
    "cat('T-statistic:', t_stat, '\\n')\n",
    "cat('Degrees of freedom:', deg_freedom, '\\n')\n",
    "\n",
    "#if stament to determine weather to reject/fail to reject null\n",
    "#if absolute t-statistc is larger than the absolute critical value we reject null\n",
    "if (abs(t_stat)>abs(t_crit)) {\n",
    "    print('Reject null hypothesis')\n",
    "} else {\n",
    "    print('Fail to reject null hypothesis')\n",
    "}"
   ]
  },
  {
   "cell_type": "markdown",
   "metadata": {},
   "source": [
    "g) Calculate the p-value for this test statistic and provide an interpretation of what this means. [3 marks]"
   ]
  },
  {
   "cell_type": "code",
   "execution_count": 8,
   "metadata": {
    "vscode": {
     "languageId": "r"
    }
   },
   "outputs": [
    {
     "name": "stdout",
     "output_type": "stream",
     "text": [
      "P-Value: 0.02682557 \n"
     ]
    }
   ],
   "source": [
    "#calculating p value \n",
    "p_value <- 1 - pt(t_stat, df = deg_freedom)\n",
    "\n",
    "cat('P-Value:', p_value,'\\n')"
   ]
  },
  {
   "cell_type": "markdown",
   "metadata": {},
   "source": [
    "Answer"
   ]
  },
  {
   "cell_type": "markdown",
   "metadata": {},
   "source": [
    "## Question 2 2023\n",
    "\n",
    "The Salary Gap data set (salarydata.csv) contains data on salaries for a sample of individuals between 2001 and 2020.  The variables in the data set include:\n",
    "- Salary: the annual salary of the individual before tax in British pounds (GBP)\n",
    "- Age: the age of the individual\n",
    "- Duration: The number of years an individual has spent in their current job\n",
    "- Gender: Self reported gender (Male, Female, Non-binary)\n",
    "- Children: The number of children (aged under 16) that the individual has parental rights for"
   ]
  },
  {
   "cell_type": "markdown",
   "metadata": {},
   "source": [
    "### Part 1: Explore the data"
   ]
  },
  {
   "cell_type": "markdown",
   "metadata": {},
   "source": [
    "a) Load the Salary Gap csv and assign it to an object labelled *salarydata* [2 marks]"
   ]
  },
  {
   "cell_type": "code",
   "execution_count": 9,
   "metadata": {
    "vscode": {
     "languageId": "r"
    }
   },
   "outputs": [],
   "source": [
    "library(AER)\n",
    "library(plm)\n",
    "library(ggplot2)\n",
    "library(stargazer)"
   ]
  },
  {
   "cell_type": "code",
   "execution_count": 10,
   "metadata": {
    "vscode": {
     "languageId": "r"
    }
   },
   "outputs": [
    {
     "data": {
      "text/html": [
       "<table>\n",
       "<thead><tr><th scope=col>X</th><th scope=col>salary</th><th scope=col>id</th><th scope=col>gender</th><th scope=col>children</th><th scope=col>duration</th><th scope=col>year</th><th scope=col>age</th></tr></thead>\n",
       "<tbody>\n",
       "\t<tr><td> 1        </td><td> 64579.25 </td><td> 1        </td><td>Male      </td><td>4         </td><td> 1        </td><td>2001      </td><td>34        </td></tr>\n",
       "\t<tr><td> 2        </td><td>105744.16 </td><td> 2        </td><td>Female    </td><td>1         </td><td> 1        </td><td>2001      </td><td>59        </td></tr>\n",
       "\t<tr><td> 3        </td><td>503045.35 </td><td> 3        </td><td>Non-binary</td><td>5         </td><td>19        </td><td>2001      </td><td>40        </td></tr>\n",
       "\t<tr><td> 4        </td><td> 55883.94 </td><td> 4        </td><td>Male      </td><td>4         </td><td> 1        </td><td>2001      </td><td>64        </td></tr>\n",
       "\t<tr><td> 5        </td><td> 25459.80 </td><td> 5        </td><td>Non-binary</td><td>3         </td><td> 1        </td><td>2001      </td><td>67        </td></tr>\n",
       "\t<tr><td> 6        </td><td> 66364.26 </td><td> 6        </td><td>Male      </td><td>3         </td><td> 1        </td><td>2001      </td><td>21        </td></tr>\n",
       "\t<tr><td> 7        </td><td> 15348.96 </td><td> 7        </td><td>Female    </td><td>3         </td><td> 1        </td><td>2001      </td><td>46        </td></tr>\n",
       "\t<tr><td> 8        </td><td> 15793.02 </td><td> 8        </td><td>Male      </td><td>3         </td><td> 6        </td><td>2001      </td><td>65        </td></tr>\n",
       "\t<tr><td> 9        </td><td> 31487.19 </td><td> 9        </td><td>Non-binary</td><td>3         </td><td> 1        </td><td>2001      </td><td>47        </td></tr>\n",
       "\t<tr><td>10        </td><td> 19616.68 </td><td>10        </td><td>Female    </td><td>4         </td><td>15        </td><td>2001      </td><td>42        </td></tr>\n",
       "</tbody>\n",
       "</table>\n"
      ],
      "text/latex": [
       "\\begin{tabular}{r|llllllll}\n",
       " X & salary & id & gender & children & duration & year & age\\\\\n",
       "\\hline\n",
       "\t  1         &  64579.25  &  1         & Male       & 4          &  1         & 2001       & 34        \\\\\n",
       "\t  2         & 105744.16  &  2         & Female     & 1          &  1         & 2001       & 59        \\\\\n",
       "\t  3         & 503045.35  &  3         & Non-binary & 5          & 19         & 2001       & 40        \\\\\n",
       "\t  4         &  55883.94  &  4         & Male       & 4          &  1         & 2001       & 64        \\\\\n",
       "\t  5         &  25459.80  &  5         & Non-binary & 3          &  1         & 2001       & 67        \\\\\n",
       "\t  6         &  66364.26  &  6         & Male       & 3          &  1         & 2001       & 21        \\\\\n",
       "\t  7         &  15348.96  &  7         & Female     & 3          &  1         & 2001       & 46        \\\\\n",
       "\t  8         &  15793.02  &  8         & Male       & 3          &  6         & 2001       & 65        \\\\\n",
       "\t  9         &  31487.19  &  9         & Non-binary & 3          &  1         & 2001       & 47        \\\\\n",
       "\t 10         &  19616.68  & 10         & Female     & 4          & 15         & 2001       & 42        \\\\\n",
       "\\end{tabular}\n"
      ],
      "text/markdown": [
       "\n",
       "| X | salary | id | gender | children | duration | year | age |\n",
       "|---|---|---|---|---|---|---|---|\n",
       "|  1         |  64579.25  |  1         | Male       | 4          |  1         | 2001       | 34         |\n",
       "|  2         | 105744.16  |  2         | Female     | 1          |  1         | 2001       | 59         |\n",
       "|  3         | 503045.35  |  3         | Non-binary | 5          | 19         | 2001       | 40         |\n",
       "|  4         |  55883.94  |  4         | Male       | 4          |  1         | 2001       | 64         |\n",
       "|  5         |  25459.80  |  5         | Non-binary | 3          |  1         | 2001       | 67         |\n",
       "|  6         |  66364.26  |  6         | Male       | 3          |  1         | 2001       | 21         |\n",
       "|  7         |  15348.96  |  7         | Female     | 3          |  1         | 2001       | 46         |\n",
       "|  8         |  15793.02  |  8         | Male       | 3          |  6         | 2001       | 65         |\n",
       "|  9         |  31487.19  |  9         | Non-binary | 3          |  1         | 2001       | 47         |\n",
       "| 10         |  19616.68  | 10         | Female     | 4          | 15         | 2001       | 42         |\n",
       "\n"
      ],
      "text/plain": [
       "   X  salary    id gender     children duration year age\n",
       "1   1  64579.25  1 Male       4         1       2001 34 \n",
       "2   2 105744.16  2 Female     1         1       2001 59 \n",
       "3   3 503045.35  3 Non-binary 5        19       2001 40 \n",
       "4   4  55883.94  4 Male       4         1       2001 64 \n",
       "5   5  25459.80  5 Non-binary 3         1       2001 67 \n",
       "6   6  66364.26  6 Male       3         1       2001 21 \n",
       "7   7  15348.96  7 Female     3         1       2001 46 \n",
       "8   8  15793.02  8 Male       3         6       2001 65 \n",
       "9   9  31487.19  9 Non-binary 3         1       2001 47 \n",
       "10 10  19616.68 10 Female     4        15       2001 42 "
      ]
     },
     "metadata": {},
     "output_type": "display_data"
    }
   ],
   "source": [
    "#reading .csv file and displaying first 10 \n",
    "salarydata <- read.csv('salarydata.csv')\n",
    "head(salarydata, n=10 ) \n"
   ]
  },
  {
   "cell_type": "markdown",
   "metadata": {},
   "source": [
    "b) Check whether the panel is balanced?  Explain the method you have used. [4 marks]"
   ]
  },
  {
   "cell_type": "code",
   "execution_count": 11,
   "metadata": {
    "vscode": {
     "languageId": "r"
    }
   },
   "outputs": [
    {
     "name": "stdout",
     "output_type": "stream",
     "text": [
      "Panel is balanced\n"
     ]
    }
   ],
   "source": [
    "#Using the plm package\n",
    "#Comaring the indexes id and year to ensure they have the same amount of entities\n",
    "is_balanced <- is.pbalanced(salarydata, index = c('id','year'))\n",
    "\n",
    "#if statement to print balanced/ not balanced\n",
    "if (is_balanced == TRUE) {\n",
    "    cat('Panel is balanced\\n')\n",
    "}else {\n",
    "        cat('Panel is not balanced\\n')\n",
    "}"
   ]
  },
  {
   "cell_type": "markdown",
   "metadata": {},
   "source": [
    "c) Look at the data.  What type of data is the gender variable loaded as? [ 2 marks]\n",
    "\n",
    "Convert the gender variable to a factor variable and set the base level to Male. [2 marks]"
   ]
  },
  {
   "cell_type": "code",
   "execution_count": 12,
   "metadata": {
    "vscode": {
     "languageId": "r"
    }
   },
   "outputs": [
    {
     "data": {
      "text/html": [
       "'factor'"
      ],
      "text/latex": [
       "'factor'"
      ],
      "text/markdown": [
       "'factor'"
      ],
      "text/plain": [
       "[1] \"factor\""
      ]
     },
     "metadata": {},
     "output_type": "display_data"
    },
    {
     "name": "stdout",
     "output_type": "stream",
     "text": [
      "[1] \"Data type of 'Gender' variable:  factor\"\n"
     ]
    }
   ],
   "source": [
    "#Finding data type\n",
    "class(salarydata$gender)\n",
    "\n",
    "#Assigning gender variables as factor\n",
    "salarydata$gender <- factor(salarydata$gender, levels = c('Male', 'Female', 'Non-binary'))\n",
    "gender_data_type <- class(salarydata$gender)\n",
    "print(paste(\"Data type of 'Gender' variable: \", gender_data_type))\n"
   ]
  },
  {
   "cell_type": "markdown",
   "metadata": {},
   "source": [
    "d) Using histograms, plot the distribution of salaries for males, females and non-binary individuals in the sample in 2020.  Describe the distributions. [10 marks]\n",
    "\n",
    "*Note: functions like ggplot2 don't like panel data frame structures*"
   ]
  },
  {
   "cell_type": "code",
   "execution_count": 13,
   "metadata": {
    "vscode": {
     "languageId": "r"
    }
   },
   "outputs": [
    {
     "data": {
      "image/png": "[encoded data removed]",
      "text/plain": [
       "plot without title"
      ]
     },
     "metadata": {
      "image/png": {
       "height": 420,
       "width": 420
      }
     },
     "output_type": "display_data"
    }
   ],
   "source": [
    "# Filter the data for the year 2020\n",
    "data_2020 <- subset(salarydata, year == 2020, select = c(\"salary\", \"gender\"))\n",
    "\n",
    "# Create histograms\n",
    "ggplot(data_2020, aes(x = salary, fill = gender)) +  #specifies the structure of the plot by setting salary to x-axis and gender to y-axis\n",
    "  geom_histogram(bins = 20, position = \"identity\", alpha = 1) + #sets the size and gama of the plot, also sets actual values of salary\n",
    "  facet_wrap(~gender, scales = \"free_y\") + #sets different facets for each category of data\n",
    "  labs(title = \"Salary Distribution by Gender in 2020\", #sets the plot labels\n",
    "       x = \"Salary (GBP)\",\n",
    "       y = \"Count\") +\n",
    "  theme_minimal() #sets aminimal theme"
   ]
  },
  {
   "cell_type": "code",
   "execution_count": 14,
   "metadata": {
    "vscode": {
     "languageId": "r"
    }
   },
   "outputs": [
    {
     "data": {
      "image/png": "[encoded data removed]",
      "text/plain": [
       "plot without title"
      ]
     },
     "metadata": {
      "image/png": {
       "height": 420,
       "width": 420
      }
     },
     "output_type": "display_data"
    }
   ],
   "source": [
    "ggplot(data_2020, aes(x = salary, fill = gender)) +\n",
    "  geom_histogram(bins = 50, position = \"identity\", alpha = 0.5) +\n",
    "  labs(title = \"Overlayed Salary Distribution by Gender in 2020\",\n",
    "       x = \"Salary (GBP)\",\n",
    "       y = \"Count\") +\n",
    "  theme_minimal() +\n",
    "  scale_fill_brewer(palette = \"Set1\")"
   ]
  },
  {
   "cell_type": "markdown",
   "metadata": {},
   "source": [
    "It appears that the wage distributions for all three categories are skewed to the right, meaning that most people make their living on the lower end of the pay range, while a smaller percentage make more money. For every gender, there is a significant salary disparity, indicating a vast range of income levels. The largest freqeuncy near the average is female whearas non-binary and male are more present at the higher end of income."
   ]
  },
  {
   "cell_type": "markdown",
   "metadata": {},
   "source": [
    "### Part 2: Cross section analysis"
   ]
  },
  {
   "cell_type": "markdown",
   "metadata": {},
   "source": [
    "\n",
    "a) Set the seed to your candidate number. [1 mark]\n",
    "\n",
    "Use R to randomly select a year from between 2001 and 2020.  Report which year was selected.\n",
    "\n",
    "Create a subset of the data called *mysubset* for the selected year. [3 marks]\n",
    "\n",
    "*Note: You should verify that the sample has been correctly constructed by inspecting *mysubset* after you create it.*\n",
    "\n"
   ]
  },
  {
   "cell_type": "code",
   "execution_count": 15,
   "metadata": {
    "vscode": {
     "languageId": "r"
    }
   },
   "outputs": [
    {
     "name": "stdout",
     "output_type": "stream",
     "text": [
      "Random year selected: 2004 \n"
     ]
    },
    {
     "data": {
      "text/html": [
       "<table>\n",
       "<thead><tr><th></th><th scope=col>X</th><th scope=col>salary</th><th scope=col>id</th><th scope=col>gender</th><th scope=col>children</th><th scope=col>duration</th><th scope=col>year</th><th scope=col>age</th></tr></thead>\n",
       "<tbody>\n",
       "\t<tr><th scope=row>301</th><td>301       </td><td> 17294.45 </td><td>1         </td><td>Male      </td><td>5         </td><td>1         </td><td>2004      </td><td>37        </td></tr>\n",
       "\t<tr><th scope=row>302</th><td>302       </td><td> 62776.28 </td><td>2         </td><td>Female    </td><td>2         </td><td>1         </td><td>2004      </td><td>62        </td></tr>\n",
       "\t<tr><th scope=row>303</th><td>303       </td><td> 27895.95 </td><td>3         </td><td>Non-binary</td><td>4         </td><td>2         </td><td>2004      </td><td>43        </td></tr>\n",
       "\t<tr><th scope=row>304</th><td>304       </td><td> 53532.72 </td><td>4         </td><td>Male      </td><td>5         </td><td>2         </td><td>2004      </td><td>67        </td></tr>\n",
       "\t<tr><th scope=row>305</th><td>305       </td><td> 42870.57 </td><td>5         </td><td>Non-binary</td><td>5         </td><td>1         </td><td>2004      </td><td>70        </td></tr>\n",
       "\t<tr><th scope=row>306</th><td>306       </td><td>101356.20 </td><td>6         </td><td>Male      </td><td>5         </td><td>2         </td><td>2004      </td><td>24        </td></tr>\n",
       "</tbody>\n",
       "</table>\n"
      ],
      "text/latex": [
       "\\begin{tabular}{r|llllllll}\n",
       "  & X & salary & id & gender & children & duration & year & age\\\\\n",
       "\\hline\n",
       "\t301 & 301        &  17294.45  & 1          & Male       & 5          & 1          & 2004       & 37        \\\\\n",
       "\t302 & 302        &  62776.28  & 2          & Female     & 2          & 1          & 2004       & 62        \\\\\n",
       "\t303 & 303        &  27895.95  & 3          & Non-binary & 4          & 2          & 2004       & 43        \\\\\n",
       "\t304 & 304        &  53532.72  & 4          & Male       & 5          & 2          & 2004       & 67        \\\\\n",
       "\t305 & 305        &  42870.57  & 5          & Non-binary & 5          & 1          & 2004       & 70        \\\\\n",
       "\t306 & 306        & 101356.20  & 6          & Male       & 5          & 2          & 2004       & 24        \\\\\n",
       "\\end{tabular}\n"
      ],
      "text/markdown": [
       "\n",
       "| <!--/--> | X | salary | id | gender | children | duration | year | age |\n",
       "|---|---|---|---|---|---|---|---|---|\n",
       "| 301 | 301        |  17294.45  | 1          | Male       | 5          | 1          | 2004       | 37         |\n",
       "| 302 | 302        |  62776.28  | 2          | Female     | 2          | 1          | 2004       | 62         |\n",
       "| 303 | 303        |  27895.95  | 3          | Non-binary | 4          | 2          | 2004       | 43         |\n",
       "| 304 | 304        |  53532.72  | 4          | Male       | 5          | 2          | 2004       | 67         |\n",
       "| 305 | 305        |  42870.57  | 5          | Non-binary | 5          | 1          | 2004       | 70         |\n",
       "| 306 | 306        | 101356.20  | 6          | Male       | 5          | 2          | 2004       | 24         |\n",
       "\n"
      ],
      "text/plain": [
       "    X   salary    id gender     children duration year age\n",
       "301 301  17294.45 1  Male       5        1        2004 37 \n",
       "302 302  62776.28 2  Female     2        1        2004 62 \n",
       "303 303  27895.95 3  Non-binary 4        2        2004 43 \n",
       "304 304  53532.72 4  Male       5        2        2004 67 \n",
       "305 305  42870.57 5  Non-binary 5        1        2004 70 \n",
       "306 306 101356.20 6  Male       5        2        2004 24 "
      ]
     },
     "metadata": {},
     "output_type": "display_data"
    },
    {
     "data": {
      "text/html": [
       "<table>\n",
       "<thead><tr><th></th><th scope=col>X</th><th scope=col>salary</th><th scope=col>id</th><th scope=col>gender</th><th scope=col>children</th><th scope=col>duration</th><th scope=col>year</th><th scope=col>age</th></tr></thead>\n",
       "<tbody>\n",
       "\t<tr><th scope=row>395</th><td>395       </td><td> 8837.319 </td><td> 95       </td><td>Female    </td><td>4         </td><td>3         </td><td>2004      </td><td>38        </td></tr>\n",
       "\t<tr><th scope=row>396</th><td>396       </td><td>36660.392 </td><td> 96       </td><td>Female    </td><td>3         </td><td>3         </td><td>2004      </td><td>32        </td></tr>\n",
       "\t<tr><th scope=row>397</th><td>397       </td><td>61385.155 </td><td> 97       </td><td>Female    </td><td>5         </td><td>3         </td><td>2004      </td><td>62        </td></tr>\n",
       "\t<tr><th scope=row>398</th><td>398       </td><td>85173.592 </td><td> 98       </td><td>Non-binary</td><td>3         </td><td>1         </td><td>2004      </td><td>27        </td></tr>\n",
       "\t<tr><th scope=row>399</th><td>399       </td><td>48775.860 </td><td> 99       </td><td>Male      </td><td>4         </td><td>1         </td><td>2004      </td><td>46        </td></tr>\n",
       "\t<tr><th scope=row>400</th><td>400       </td><td>15268.879 </td><td>100       </td><td>Male      </td><td>4         </td><td>5         </td><td>2004      </td><td>48        </td></tr>\n",
       "</tbody>\n",
       "</table>\n"
      ],
      "text/latex": [
       "\\begin{tabular}{r|llllllll}\n",
       "  & X & salary & id & gender & children & duration & year & age\\\\\n",
       "\\hline\n",
       "\t395 & 395        &  8837.319  &  95        & Female     & 4          & 3          & 2004       & 38        \\\\\n",
       "\t396 & 396        & 36660.392  &  96        & Female     & 3          & 3          & 2004       & 32        \\\\\n",
       "\t397 & 397        & 61385.155  &  97        & Female     & 5          & 3          & 2004       & 62        \\\\\n",
       "\t398 & 398        & 85173.592  &  98        & Non-binary & 3          & 1          & 2004       & 27        \\\\\n",
       "\t399 & 399        & 48775.860  &  99        & Male       & 4          & 1          & 2004       & 46        \\\\\n",
       "\t400 & 400        & 15268.879  & 100        & Male       & 4          & 5          & 2004       & 48        \\\\\n",
       "\\end{tabular}\n"
      ],
      "text/markdown": [
       "\n",
       "| <!--/--> | X | salary | id | gender | children | duration | year | age |\n",
       "|---|---|---|---|---|---|---|---|---|\n",
       "| 395 | 395        |  8837.319  |  95        | Female     | 4          | 3          | 2004       | 38         |\n",
       "| 396 | 396        | 36660.392  |  96        | Female     | 3          | 3          | 2004       | 32         |\n",
       "| 397 | 397        | 61385.155  |  97        | Female     | 5          | 3          | 2004       | 62         |\n",
       "| 398 | 398        | 85173.592  |  98        | Non-binary | 3          | 1          | 2004       | 27         |\n",
       "| 399 | 399        | 48775.860  |  99        | Male       | 4          | 1          | 2004       | 46         |\n",
       "| 400 | 400        | 15268.879  | 100        | Male       | 4          | 5          | 2004       | 48         |\n",
       "\n"
      ],
      "text/plain": [
       "    X   salary    id  gender     children duration year age\n",
       "395 395  8837.319  95 Female     4        3        2004 38 \n",
       "396 396 36660.392  96 Female     3        3        2004 32 \n",
       "397 397 61385.155  97 Female     5        3        2004 62 \n",
       "398 398 85173.592  98 Non-binary 3        1        2004 27 \n",
       "399 399 48775.860  99 Male       4        1        2004 46 \n",
       "400 400 15268.879 100 Male       4        5        2004 48 "
      ]
     },
     "metadata": {},
     "output_type": "display_data"
    }
   ],
   "source": [
    "set.seed(730093239) #sets seed to ranomdly generate number which ensures the code is reproducable\n",
    "\n",
    "year_selected <- sample(2001:2020, 1) #sets a sample for a year between 2001 and 2020 (2004 in this case)\n",
    "\n",
    "cat('Random year selected:', year_selected, '\\n')\n",
    "\n",
    "mysubset <- salarydata[salarydata$year == year_selected, ] #create subset with only data from the selected year\n",
    "\n",
    "head(mysubset)\n",
    "tail(mysubset)\n",
    "\n",
    "mysubset$gender <- factor(mysubset$gender, levels = c(\"Female\", \"Male\", \"Non-binary\")) #reassigns the order of genders"
   ]
  },
  {
   "cell_type": "markdown",
   "metadata": {},
   "source": [
    "You want to explore whether there is evidence of a salary gap between people of different genders.  Given the distributions of salaries in the sample you decide to estimate the following model:\n",
    "\n",
    "$$ log(salary_i) = \\beta_0 + \\beta_1 Age_i + \\beta_2 Duration_i + \\beta_3 Female_i + \\beta_4 Nonbinary_i + u_i ,$$\n",
    "\n",
    "where $Female_i$ is an indicator variable equal to 1 if the individual self reported as female and 0 otherwise, and $Nonbinary$ is an indicator variable equal to 1 if the individual self reported as nonbinary and 0 otherwise.\n",
    "\n",
    "b) Explain why an indicator variable for Male is not included in the model [3 marks]\n"
   ]
  },
  {
   "cell_type": "markdown",
   "metadata": {},
   "source": [
    "When a categorical variable in a regression model has more than one level (e.g., gender with Male, Female, and Non-binary), one level is usually excluded as the \"reference category.\" The intercept term (β0) implicitly represents this reference category. "
   ]
  },
  {
   "cell_type": "markdown",
   "metadata": {},
   "source": [
    "\n",
    "c) Using the data set *mysubset*, estimate the model. [3 marks]\n"
   ]
  },
  {
   "cell_type": "code",
   "execution_count": 16,
   "metadata": {
    "vscode": {
     "languageId": "r"
    }
   },
   "outputs": [
    {
     "name": "stdout",
     "output_type": "stream",
     "text": [
      "\n",
      "===============================================\n",
      "                        Dependent variable:    \n",
      "                    ---------------------------\n",
      "                            log(salary)        \n",
      "-----------------------------------------------\n",
      "age                           0.015*           \n",
      "                              (0.008)          \n",
      "                                               \n",
      "duration                       0.025           \n",
      "                              (0.018)          \n",
      "                                               \n",
      "Female                       -0.773***         \n",
      "                              (0.262)          \n",
      "                                               \n",
      "Nonbinary                      0.069           \n",
      "                              (0.289)          \n",
      "                                               \n",
      "Constant                     10.322***         \n",
      "                              (0.390)          \n",
      "                                               \n",
      "-----------------------------------------------\n",
      "Observations                    100            \n",
      "R2                             0.149           \n",
      "Adjusted R2                    0.113           \n",
      "Residual Std. Error       1.093 (df = 95)      \n",
      "F Statistic            4.145*** (df = 4; 95)   \n",
      "===============================================\n",
      "Note:               *p<0.1; **p<0.05; ***p<0.01\n"
     ]
    }
   ],
   "source": [
    "mysubset$Female <- as.numeric(mysubset$gender == \"Female\")\n",
    "mysubset$Nonbinary <- as.numeric(mysubset$gender == \"Non-binary\")\n",
    "\n",
    "\n",
    "reg <- lm(log(salary) ~ age + duration + Female + Nonbinary, data = mysubset) #conducting a multiple regression as denoted above\n",
    "            \n",
    "#Define robust SE, using the heteroscedasticity-robust method\n",
    "\n",
    "robust <- sqrt(diag(vcovHC(reg, 'HC1'))) \n",
    "\n",
    "#summary regresion table using stargazer package\n",
    "stargazer(reg,type = 'text', se = list(robust))"
   ]
  },
  {
   "cell_type": "markdown",
   "metadata": {},
   "source": [
    "d) How do you interpret the coefficient on duration and its significance? [4 marks]\n"
   ]
  },
  {
   "cell_type": "markdown",
   "metadata": {},
   "source": [
    "TheThis variable shows a coefficient of 0.025 which means for every unit incrrase in duration log(salary) is expectdd to rise by 0.025, but the lack of asterisks indicates that this is not statistically significant."
   ]
  },
  {
   "cell_type": "markdown",
   "metadata": {},
   "source": [
    "e) Do you find any evidence of a difference in the mean salaries for people of different genders? [4 marks]\n"
   ]
  },
  {
   "cell_type": "markdown",
   "metadata": {},
   "source": [
    "This coefficient is statistically significant at the 1% level (as indicated by ***). The magnitude of the coefficient (-0.773) suggests a substantial decrease in log(salary) for females, which translates to a significant decrease in salary.\n",
    "\n",
    "The coefficient for nonbinary individuals is not statistically significant, as indicated by the lack of asterisks. This means we do not have enough evidence from this sample to conclude that the mean salary for nonbinary individuals is different from the baseline category."
   ]
  },
  {
   "cell_type": "markdown",
   "metadata": {},
   "source": [
    "\n",
    "f) The variable children was not included in the model. Explain how this might affect your results? Does your data provide any information about this? [6 marks]"
   ]
  },
  {
   "cell_type": "markdown",
   "metadata": {},
   "source": [
    "Including children into the regression could have an influence on salary patterns behaviours as people with or without children may have different salaries. A higher number of children could mean that salary would be higher as these individuals require more disposable income to support their families. However, on the other hand, higher income indivudals may have less kids as they are more work-focused and therefore do not have time to start larger families. These factors could have an impact on the results. Addtionally, Reducing omitted veriable biases could also have an effect on the regression outcome, if children has an impact on the other variables, the inclusion of children in this case would reduce coefficient estimation bias. Finally, the inclusion of children could expalin certain gender behaviours such as women being more likely to undetake caregiving roles, these could effect their career choices and thus impact their salary."
   ]
  },
  {
   "cell_type": "markdown",
   "metadata": {},
   "source": [
    "g) Re-estimate the model with the addition of children as a regressor.  Explain whether your interpretation of the results has changed [5 marks]"
   ]
  },
  {
   "cell_type": "code",
   "execution_count": 17,
   "metadata": {
    "vscode": {
     "languageId": "r"
    }
   },
   "outputs": [
    {
     "name": "stdout",
     "output_type": "stream",
     "text": [
      "\n",
      "===============================================\n",
      "                        Dependent variable:    \n",
      "                    ---------------------------\n",
      "                            log(salary)        \n",
      "-----------------------------------------------\n",
      "age                           0.016**          \n",
      "                              (0.008)          \n",
      "                                               \n",
      "duration                       0.023           \n",
      "                              (0.018)          \n",
      "                                               \n",
      "Female                       -0.796***         \n",
      "                              (0.262)          \n",
      "                                               \n",
      "Nonbinary                      0.002           \n",
      "                              (0.289)          \n",
      "                                               \n",
      "children                      -0.110           \n",
      "                                               \n",
      "                                               \n",
      "Constant                     10.692***         \n",
      "                              (0.390)          \n",
      "                                               \n",
      "-----------------------------------------------\n",
      "Observations                    100            \n",
      "R2                             0.163           \n",
      "Adjusted R2                    0.118           \n",
      "Residual Std. Error       1.090 (df = 94)      \n",
      "F Statistic            3.650*** (df = 5; 94)   \n",
      "===============================================\n",
      "Note:               *p<0.1; **p<0.05; ***p<0.01\n"
     ]
    }
   ],
   "source": [
    "\n",
    "reg1 <- lm(log(salary)~age + duration+ Female + Nonbinary + children, data = mysubset)\n",
    "\n",
    "#Define robust SE\n",
    "\n",
    "robust <- sqrt(diag(vcovHC(reg, 'HC1')))\n",
    "\n",
    "stargazer(reg1,type = 'text', se = list(robust))"
   ]
  },
  {
   "cell_type": "markdown",
   "metadata": {},
   "source": [
    "The coefficient for \"children\" is negative, indicating that people with children typically earn less in log wage than people without children. The p-value, however, is higher than the typical significance limit of 0.05 at 0.084001. Meanng it is not statistically significant. \n",
    "\n",
    "The coefficient for 'genderFemale' has shifted from -0.773 to -0.796, indicating a decrease in the average log pay of women compared to men after adjusting for the presence of children.\n",
    "\n"
   ]
  },
  {
   "cell_type": "markdown",
   "metadata": {},
   "source": [
    "### Part 3: Panel data analysis [21 marks]"
   ]
  },
  {
   "cell_type": "markdown",
   "metadata": {},
   "source": [
    "a) Explain the advantage of using the full panel of data from 2001 to 2020 for your analysis [2 marks]\n"
   ]
  },
  {
   "cell_type": "markdown",
   "metadata": {},
   "source": [
    "Longitudinal studies enable us to inspect populations and how they change over a period of time, at regular intervals, this allows control over veriables as well as accounts for demographic and social changes. With the use of 2001-2020 data there is an increased sample size which leads to greater degrees of accuracy, which helps with representing the population comprehensivley."
   ]
  },
  {
   "cell_type": "markdown",
   "metadata": {},
   "source": [
    "\n",
    "b) Why would you want to include entity and time fixed effects? [3 marks]\n"
   ]
  },
  {
   "cell_type": "markdown",
   "metadata": {},
   "source": [
    "The inclusion of entity and time fixed effects in a panel data model enhances the credibility of causal inferences by controlling for unobserved individual differences and common temporal shocks. Regressions on cross sectional data often experience omited variable bias, with the use of entity and time fixed effects these biases can be reduced."
   ]
  },
  {
   "cell_type": "markdown",
   "metadata": {},
   "source": [
    "c) Write down a panel linear model with entity and time fixed effects.  The model should express the log of salary as a function of age, duration, children and an interaction between gender and children.  [4 marks]\n"
   ]
  },
  {
   "cell_type": "markdown",
   "metadata": {},
   "source": [
    "\n",
    "\n",
    "\n",
    "\n",
    "$$ \\log(salary_{it}) = α +  β_1age_{it} + β_2duration_{it} + β_3children_{it} + β_4(gender_{it} * children_{it}) + λ_i + γ_t + μ_{it} $$\n",
    "\n"
   ]
  },
  {
   "cell_type": "markdown",
   "metadata": {},
   "source": [
    "d) Explain how the interaction between gender and children influences the expected change in salary for individuals with one additional child. [3 marks]"
   ]
  },
  {
   "cell_type": "markdown",
   "metadata": {},
   "source": [
    "The interaction terms in the model capture how the relationship between the number of children and salary differs based on gender. For males the expected change in salary based on childr3en is represneted through the children coefficenint. "
   ]
  },
  {
   "cell_type": "markdown",
   "metadata": {},
   "source": [
    "e) Estimate the model using the full salarydata dataset and interpret the coefficients on regressors related to gender and children. [2 marks]"
   ]
  },
  {
   "cell_type": "code",
   "execution_count": 18,
   "metadata": {
    "vscode": {
     "languageId": "r"
    }
   },
   "outputs": [
    {
     "name": "stdout",
     "output_type": "stream",
     "text": [
      "\n",
      "=====================================================\n",
      "                              Dependent variable:    \n",
      "                          ---------------------------\n",
      "                                  log(salary)        \n",
      "-----------------------------------------------------\n",
      "age                                  0.003           \n",
      "                                    (0.008)          \n",
      "                                                     \n",
      "duration                             0.012           \n",
      "                                    (0.018)          \n",
      "                                                     \n",
      "children                           -0.043**          \n",
      "                                                     \n",
      "                                                     \n",
      "children:genderFemale               -0.171           \n",
      "                                                     \n",
      "                                                     \n",
      "children:genderNon-binary           -0.030           \n",
      "                                                     \n",
      "                                                     \n",
      "-----------------------------------------------------\n",
      "Observations                         2,000           \n",
      "R2                                   0.021           \n",
      "Adjusted R2                         -0.033           \n",
      "F Statistic                 8.189*** (df = 5; 1895)  \n",
      "=====================================================\n",
      "Note:                     *p<0.1; **p<0.05; ***p<0.01\n"
     ]
    }
   ],
   "source": [
    "\n",
    "\n",
    "# Estimating the model\n",
    "pmodel <- plm(log(salary) ~ age + duration + children + gender* children, \n",
    "              data = salarydata, \n",
    "              index = c(\"id\", \"year\"), \n",
    "              model = \"within\")\n",
    "\n",
    "stargazer(pmodel,type = 'text', se = list(robust))"
   ]
  },
  {
   "cell_type": "markdown",
   "metadata": {},
   "source": [
    "Answer"
   ]
  },
  {
   "cell_type": "markdown",
   "metadata": {},
   "source": [
    "f) Explain how you would test the null hypothesis that there is no gender based salary gap.  Clearly explain your null and alternative hypothesis, the test statistic, significance level and rejection rule. [5 marks]"
   ]
  },
  {
   "cell_type": "markdown",
   "metadata": {},
   "source": [
    "\n",
    "$$ H_0: \\beta_{Female} = \\beta_{ Nonbinary} = \\beta_{Female:Children} = \\beta_{Nonbinary:Children}  = 0 $$\n",
    "\n",
    "$$ H1: \\beta_{Female} != \\beta_{ Nonbinary} != \\beta_{Female:Children} != \\beta_{Nonbinary:Children}  != 0 $$\n",
    "\n",
    "$$ α = 0.05 $$\n",
    "\n",
    "$$ t-value = (\\bar y - μ^0_Y)/(s_y / √n) $$\n",
    "\n",
    "$$ t_{crit} = ± qnorm(α) $$\n",
    "\n",
    "$$ |t-value| != |t_{crit}| $$\n"
   ]
  },
  {
   "cell_type": "markdown",
   "metadata": {},
   "source": [
    "g) Conduct the hypothesis test and discuss your conclusions.  [2 marks]"
   ]
  },
  {
   "cell_type": "code",
   "execution_count": 19,
   "metadata": {
    "vscode": {
     "languageId": "r"
    }
   },
   "outputs": [
    {
     "name": "stderr",
     "output_type": "stream",
     "text": [
      "Warning message in constants(lhs, cnames_symb):\n",
      "\"NAs introduced by coercion\"\n"
     ]
    },
    {
     "ename": "ERROR",
     "evalue": "Error in constants(lhs, cnames_symb): The hypothesis \"gender\" is not well formed: contains bad coefficient/variable names.\n",
     "output_type": "error",
     "traceback": [
      "Error in constants(lhs, cnames_symb): The hypothesis \"gender\" is not well formed: contains bad coefficient/variable names.\nTraceback:\n",
      "1. linearHypothesis(pmodel, hypothesis, vcov. = vcovHC(pmodel, type = \"HC1\"))",
      "2. linearHypothesis.default(pmodel, hypothesis, vcov. = vcovHC(pmodel, \n .     type = \"HC1\"))",
      "3. makeHypothesis(names(b), hypothesis.matrix, rhs)",
      "4. rbind(Recall(cnames, hypothesis[1], rhs[1]), Recall(cnames, hypothesis[-1], \n .     rhs[-1]))",
      "5. Recall(cnames, hypothesis[-1], rhs[-1])",
      "6. makeHypothesis(names(b), hypothesis.matrix, rhs)",
      "7. rbind(Recall(cnames, hypothesis[1], rhs[1]), Recall(cnames, hypothesis[-1], \n .     rhs[-1]))",
      "8. Recall(cnames, hypothesis[-1], rhs[-1])",
      "9. makeHypothesis(names(b), hypothesis.matrix, rhs)",
      "10. constants(lhs, cnames_symb)",
      "11. stop(\"The hypothesis \\\"\", hypothesis, \"\\\" is not well formed: contains bad coefficient/variable names.\")"
     ]
    }
   ],
   "source": [
    "hypothesis <- c('age', 'duration', 'gender' )\n",
    "\n",
    "hypothesis_test <- linearHypothesis(pmodel, hypothesis, vcov. = vcovHC(pmodel, type = \"HC1\"))\n",
    "print(hypothesis_test)"
   ]
  },
  {
   "cell_type": "markdown",
   "metadata": {},
   "source": [
    "Answer"
   ]
  }
 ],
 "metadata": {
  "kernelspec": {
   "display_name": "R",
   "language": "R",
   "name": "ir"
  },
  "language_info": {
   "codemirror_mode": "r",
   "file_extension": ".r",
   "mimetype": "text/x-r-source",
   "name": "R",
   "pygments_lexer": "r",
   "version": "3.6.1"
  }
 },
 "nbformat": 4,
 "nbformat_minor": 2
}
